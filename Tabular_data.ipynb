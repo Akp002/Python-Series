{
 "cells": [
  {
   "cell_type": "code",
   "execution_count": 2,
   "id": "1b31d937-cfa3-438f-8426-a9d07edeb340",
   "metadata": {},
   "outputs": [],
   "source": [
    "# lets start with python structures : list and dictionaries \n",
    "house = [50000000, 4, 'Duplex', 'Ikeja']\n",
    "house = {\n",
    "    'price (N)' : 50000000, \n",
    "    'no_of_rooms' : 4,\n",
    "    'house_type' : 'Duplex',\n",
    "    'location' : 'Ikeja'\n",
    "}\n",
    "\n",
    "    \n"
   ]
  },
  {
   "cell_type": "code",
   "execution_count": 4,
   "id": "9d540959-91a3-4108-a480-3f61a56d9c44",
   "metadata": {},
   "outputs": [
    {
     "name": "stdout",
     "output_type": "stream",
     "text": [
      "house prices: [50000000, 55000000, 25000000, 70000000, 500000000]\n",
      "house prices (in Naira):\t [50000000, 55000000, 25000000, 70000000, 500000000]\n",
      "mean house price (in Naira):\t 140000000.0\n"
     ]
    }
   ],
   "source": [
    "#lets represent multiple houses using list \n",
    "house_1 = [50000000, 4, 'Duplex','Ikeja']\n",
    "house_2 = [55000000, 3, 'Bungalow','Lekki']\n",
    "house_3 = [25000000, 4, 'Bungalow','Ikorodu']\n",
    "house_4 = [70000000, 6, 'Semi-Detached','Bariga']\n",
    "house_5 = [500000000, 10, 'High-Rise','Badagry']\n",
    "\n",
    "#lets calaculate the mean/average price of houses in Lagos, using our sample data of course \n",
    "list_of_prices = [house_1[0], house_2[0], house_3[0], house_4[0], house_5[0]]\n",
    "print('house prices:',list_of_prices)\n",
    "\n",
    "#lets calculate mean/average \n",
    "mean_house_price = sum(list_of_prices) / len(list_of_prices)\n",
    "\n",
    "print('house prices (in Naira):\\t', list_of_prices)\n",
    "print('mean house price (in Naira):\\t', mean_house_price)\n",
    "\n"
   ]
  },
  {
   "cell_type": "code",
   "execution_count": 21,
   "id": "16491b65-9281-43d1-b5b0-759325658205",
   "metadata": {},
   "outputs": [
    {
     "name": "stdout",
     "output_type": "stream",
     "text": [
      "house prices (in Naira):\t [50000000, 55000000, 25000000, 70000000, 500000000]\n",
      "mean house price (in Naira):\t 140000000.0\n"
     ]
    }
   ],
   "source": [
    "# lets switch to dictionaries \n",
    "\n",
    "house_1 = {\n",
    "    'price (N)' : 50000000, \n",
    "    'no_of_rooms' : 4,\n",
    "    'house_type' : 'duplex',\n",
    "    'location' : 'Ikeja'\n",
    "}\n",
    "\n",
    "house_2 = {\n",
    "    'price (N)' : 55000000, \n",
    "    'no_of_rooms' : 3,\n",
    "    'house_type' : 'bungalow',\n",
    "    'location' : 'Lekki'\n",
    "}\n",
    "\n",
    "house_3 = {\n",
    "    'price (N)' : 25000000, \n",
    "    'no_of_rooms' : 4,\n",
    "    'house_type' : 'bungalow',\n",
    "    'location' : 'Ikorodu'\n",
    "}\n",
    "\n",
    "house_4 = {\n",
    "    'price (N)' : 70000000, \n",
    "    'no_of_rooms' : 6,\n",
    "    'house_type' : 'Semi-Detached',\n",
    "    'location' : 'Bariga'\n",
    "}\n",
    "\n",
    "house_5 = {\n",
    "    'price (N)' : 500000000, \n",
    "    'no_of_rooms' : 10,\n",
    "    'house_type' : 'high-rise',\n",
    "    'location' : 'Badagry'\n",
    "}\n",
    "\n",
    "\n",
    "#lets calaculate the mean/average price of houses in Lagos, using our sample data of course \n",
    "list_of_prices = [house_1['price (N)'], house_2['price (N)'], house_3['price (N)'], house_4['price (N)'], house_5['price (N)']]\n",
    "\n",
    "#lets calculate mean/average \n",
    "mean_house_price = sum(list_of_prices) / len(list_of_prices)\n",
    "\n",
    "print('house prices (in Naira):\\t', list_of_prices)\n",
    "print('mean house price (in Naira):\\t', mean_house_price)\n",
    "\n",
    "\n"
   ]
  },
  {
   "cell_type": "code",
   "execution_count": 25,
   "id": "60ed0b8c-8070-46e7-9ac0-bb666f4a6f3c",
   "metadata": {},
   "outputs": [],
   "source": [
    "#list of dictionaries\n",
    "house_list =[\n",
    "    {\n",
    "    'price (N)' : 50000000, \n",
    "    'no_of_rooms' : 4,\n",
    "    'house_type' : 'duplex',\n",
    "    'location' : 'Ikeja'\n",
    "},\n",
    " {\n",
    "    'price (N)' : 55000000, \n",
    "    'no_of_rooms' : 3,\n",
    "    'house_type' : 'bungalow',\n",
    "    'location' : 'Lekki'\n",
    "},\n",
    " {\n",
    "    'price (N)' : 25000000, \n",
    "    'no_of_rooms' : 4,\n",
    "    'house_type' : 'bungalow',\n",
    "    'location' : 'Ikorodu'\n",
    "},\n",
    " {\n",
    "    'price (N)' : 70000000, \n",
    "    'no_of_rooms' : 6,\n",
    "    'house_type' : 'semi-detached',\n",
    "    'location' : 'Bariga'\n",
    "},\n",
    "{\n",
    "    'price (N)' : 500000000, \n",
    "    'no_of_rooms' : 10,\n",
    "    'house_type' : 'high-rise',\n",
    "    'location' : 'Badagry'\n",
    "}]\n",
    "\n",
    "list_of_prices = [house_1['price (N)'], house_2['price (N)'], house_3['price (N)'], house_4['price (N)'], house_5['price (N)']]\n",
    "\n",
    "mean_house_price = sum(list_of_prices) / len(list_of_prices)\n",
    "\n",
    "duplex_count = 0\n",
    "bungalow_count = 0\n",
    "semi_detached_count = 0\n",
    "high_rise_count = 0\n",
    "\n",
    "\n",
    "for house in house_list :\n",
    "   if house ['house_type'] == 'duplex':\n",
    "        duplex_count = duplex_count + 1\n",
    "   elif house ['house_type'] == 'bungalow' :\n",
    "        bungalow_count = bungalow_count + 1\n",
    "   elif house ['house_type'] == 'semi_detached' :\n",
    "        semi_detached_count = semi_detached_count + 1\n",
    "   elif house ['house_type'] == 'high_rise' :\n",
    "        high_rise_count = high_rise_count + 1\n",
    "\n",
    "\n"
   ]
  },
  {
   "cell_type": "code",
   "execution_count": 1,
   "id": "3a4d61aa-1387-4d63-a809-b72519cad0a9",
   "metadata": {},
   "outputs": [
    {
     "name": "stdout",
     "output_type": "stream",
     "text": [
      "house_list_length: 3\n",
      "[115910.26, 128, 4]\n"
     ]
    }
   ],
   "source": [
    "# declare variable 'house_list'\n",
    "house_list = [115910.26, 128, 4]\n",
    "\n",
    "# print length of 'house_list',i.e, number of items in the list \n",
    "print('house_list_length:',len(house_list))\n",
    "\n",
    "# print out all the items in the 'house_0_list' list\n",
    "print(house_list)\n"
   ]
  },
  {
   "cell_type": "code",
   "execution_count": 2,
   "id": "a3e8791a-f3e6-46e3-a363-b0eb1ef05ddc",
   "metadata": {},
   "outputs": [
    {
     "name": "stdout",
     "output_type": "stream",
     "text": [
      "house_price: 115910.26\n",
      "area of the house [sq meters]: 128\n",
      "price per sq meter of the house is: 905.54890625\n"
     ]
    }
   ],
   "source": [
    "# to get the value of the price from the house_list.....\n",
    "print ('house_price:',house_list[0])\n",
    "\n",
    "# to gget the value of the area covered by the house, from the house_list....\n",
    "print('area of the house [sq meters]:', house_list[1])\n",
    "\n",
    "# now lets calculate price per sq meters using these two values \n",
    "price_per_sqm = house_list[0] / house_list[1]\n",
    "print('price per sq meter of the house is:', price_per_sqm)"
   ]
  },
  {
   "cell_type": "code",
   "execution_count": 3,
   "id": "eb2e3277-7d69-495f-88f0-f897ff51d332",
   "metadata": {},
   "outputs": [],
   "source": [
    "# recall, the new value is assigned to the variable, price_per_sqm, and the name of the list is house_list\n",
    "# lets print the list before adding new value \n"
   ]
  },
  {
   "cell_type": "code",
   "execution_count": 4,
   "id": "e8b0cce7-a328-4019-96d8-1fd433cddc56",
   "metadata": {},
   "outputs": [
    {
     "name": "stdout",
     "output_type": "stream",
     "text": [
      "[115910.26, 128.0, 4.0]\n",
      "[48718.17, 210.0, 3.0]\n",
      "[28977.56, 58.0, 2.0]\n",
      "[36932.27, 79.0, 3.0]\n",
      "[83903.51, 111.0, 3.0]\n"
     ]
    }
   ],
   "source": [
    "# lets declare the parent list, ,'named house_parent_list', and populate with eac of the house lists\n",
    "parent_list_houses = [\n",
    "    [115910.26, 128.0, 4.0],\n",
    "    [48718.17, 210.0, 3.0],\n",
    "    [28977.56, 58.0, 2.0],\n",
    "    [36932.27, 79.0, 3.0],\n",
    "    [83903.51, 111.0, 3.0]\n",
    "]\n",
    "\n",
    "# lets loop through the parent_list_houses\n",
    "for house_list in parent_list_houses:\n",
    "    print(house_list)\n"
   ]
  },
  {
   "cell_type": "code",
   "execution_count": 6,
   "id": "067cad7a-be4f-49f2-90e9-ec1d3564db80",
   "metadata": {},
   "outputs": [],
   "source": [
    "# now that we've seen how the loop printed each of the house lists in the parent list, lets do more!\n",
    "for house_list in parent_list_houses:\n",
    "    # now lets calculate price per sq meters using these two values \n",
    "    price_per_sqm = house_list[0] / house_list[1]\n",
    "\n",
    "    #then we append the value to the list, on the fly!\n",
    "    house_list.append(price_per_sqm)"
   ]
  },
  {
   "cell_type": "code",
   "execution_count": 7,
   "id": "f0626a40-3386-44bb-9764-38bf0f962f6f",
   "metadata": {},
   "outputs": [
    {
     "name": "stdout",
     "output_type": "stream",
     "text": [
      "[115910.26, 128.0, 4.0, 905.54890625]\n",
      "[48718.17, 210.0, 3.0, 231.9912857142857]\n",
      "[28977.56, 58.0, 2.0, 499.61310344827587]\n",
      "[36932.27, 79.0, 3.0, 467.4970886075949]\n",
      "[83903.51, 111.0, 3.0, 755.8874774774774]\n"
     ]
    }
   ],
   "source": [
    "# lets take a look at what the parent list looks like now \n",
    "# looping through the parent_list\n",
    "for house_list in parent_list_houses:\n",
    "    print(house_list)"
   ]
  },
  {
   "cell_type": "code",
   "execution_count": 9,
   "id": "c51ec90b-078d-4791-b080-70dec629f4ab",
   "metadata": {},
   "outputs": [],
   "source": [
    "# lets rather have a parent list, that contains dictionaries for each house\n",
    "parent_list_houses = [\n",
    "    {\n",
    "        'price': 115910.26,\n",
    "        'area in sq_meters': 128.0,\n",
    "        'no of rooms': 4.0},\n",
    "    {\n",
    "        'price': 48718.17,\n",
    "        'area in sq_meters': 210.0,\n",
    "        'no of rooms': 3.0},\n",
    "    {\n",
    "        'price': 28977.56,\n",
    "        'area in sq_meters': 58.0,\n",
    "        'no of rooms': 2.0},\n",
    "    {\n",
    "        'price': 36932.27,\n",
    "        'area in sq_meters': 79.0,\n",
    "        'no of rooms': 3.0},\n",
    "    {\n",
    "        'price': 83903.51,\n",
    "        'area in sq_meters': 111.0,\n",
    "        'no of rooms': 3.0}\n",
    "]\n",
    "        "
   ]
  },
  {
   "cell_type": "code",
   "execution_count": 10,
   "id": "27a9648b-cfc5-4d94-a7c3-e287295a065b",
   "metadata": {},
   "outputs": [],
   "source": [
    "# wwe loop through the parent list like we did before \n",
    "for house_dict in parent_list_houses:\n",
    "    #now lets calculate price per sq meters using these two values\n",
    "    price_per_sqm = house_dict['price'] / house_dict['area in sq_meters'] #notice how we used the dictionary keys instead of index number\n",
    "   \n",
    "    # to add the new value....\n",
    "    house_dict['price per sq_meter'] = price_per_sqm #simple"
   ]
  },
  {
   "cell_type": "code",
   "execution_count": 11,
   "id": "131f4c57-64f4-48d9-95b3-d6c02be05fce",
   "metadata": {},
   "outputs": [
    {
     "data": {
      "text/plain": [
       "[{'price': 115910.26,\n",
       "  'area in sq_meters': 128.0,\n",
       "  'no of rooms': 4.0,\n",
       "  'price per sq_meter': 905.54890625},\n",
       " {'price': 48718.17,\n",
       "  'area in sq_meters': 210.0,\n",
       "  'no of rooms': 3.0,\n",
       "  'price per sq_meter': 231.9912857142857},\n",
       " {'price': 28977.56,\n",
       "  'area in sq_meters': 58.0,\n",
       "  'no of rooms': 2.0,\n",
       "  'price per sq_meter': 499.61310344827587},\n",
       " {'price': 36932.27,\n",
       "  'area in sq_meters': 79.0,\n",
       "  'no of rooms': 3.0,\n",
       "  'price per sq_meter': 467.4970886075949},\n",
       " {'price': 83903.51,\n",
       "  'area in sq_meters': 111.0,\n",
       "  'no of rooms': 3.0,\n",
       "  'price per sq_meter': 755.8874774774774}]"
      ]
     },
     "execution_count": 11,
     "metadata": {},
     "output_type": "execute_result"
    }
   ],
   "source": [
    "#lets see what we now have in parent list\n",
    "parent_list_houses"
   ]
  },
  {
   "cell_type": "code",
   "execution_count": 12,
   "id": "d0f38c96-b0d6-4066-89c8-1a409c2d1adf",
   "metadata": {},
   "outputs": [],
   "source": [
    "# lets create an empty list, where we will put all house prices, we'd then calculate the mean of the prices afterwards\n",
    "house_prices = []\n",
    "\n",
    "# loop through the parent list \n",
    "for house_dict in parent_list_houses:\n",
    "    #recall,  to add an item to a list , we use append ()\n",
    "    house_prices.append(house_dict['price'])\n",
    "\n",
    "#now lets see what we have in house_prices\n"
   ]
  },
  {
   "cell_type": "code",
   "execution_count": null,
   "id": "00355730-b187-4d3a-ad0a-3e7143f17b4c",
   "metadata": {},
   "outputs": [],
   "source": [
    "# lets create the dictinary\n",
    "houses_columns = {\n",
    "    'price': [115910.26, 48718.17, 28977.56, 36932.27, 83903.51],\n",
    "    'area in sq_meters': [128.0, 210.0, 58.0, 79.0, 111.0],\n",
    "    'no of rooms': [4.0, 3.0, 2.0, 3.0, 3.0]\n",
    "}\n",
    "\n",
    "#how do we loop through a dictionary ?\n",
    "for key,values in houses_colums.item():\n",
    "    mean = sum(value) /len(value)\n",
    "    \n",
    "    \n",
    "\n",
    "    "
   ]
  }
 ],
 "metadata": {
  "kernelspec": {
   "display_name": "Python 3 (ipykernel)",
   "language": "python",
   "name": "python3"
  },
  "language_info": {
   "codemirror_mode": {
    "name": "ipython",
    "version": 3
   },
   "file_extension": ".py",
   "mimetype": "text/x-python",
   "name": "python",
   "nbconvert_exporter": "python",
   "pygments_lexer": "ipython3",
   "version": "3.11.7"
  }
 },
 "nbformat": 4,
 "nbformat_minor": 5
}
